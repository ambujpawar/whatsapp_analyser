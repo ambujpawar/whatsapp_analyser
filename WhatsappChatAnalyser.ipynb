{
 "cells": [
  {
   "cell_type": "markdown",
   "id": "0e66a769",
   "metadata": {},
   "source": [
    "## Analyse your WhatsApp chats"
   ]
  },
  {
   "cell_type": "markdown",
   "id": "af1e35c5",
   "metadata": {},
   "source": [
    "Import all the utility functions"
   ]
  },
  {
   "cell_type": "code",
   "execution_count": null,
   "id": "de276b96",
   "metadata": {},
   "outputs": [],
   "source": [
    "# Enable all imports\n",
    "from utils.read_input import ReadInput\n",
    "from utils.emoji_count import EmojiCount\n",
    "from utils.message_utils import GetMessageStatistics, GetMessagesByTime, GetMessagesByDay, GetUsers\n",
    "from utils.wordcloud_utils import PrepareDataForWordcloud, AddCustomStopwords, DrawWordCloud"
   ]
  },
  {
   "cell_type": "markdown",
   "id": "8d612e16",
   "metadata": {},
   "source": [
    "### Input the path to text file that was exported by whatsapp"
   ]
  },
  {
   "cell_type": "code",
   "execution_count": null,
   "id": "d116ddda",
   "metadata": {},
   "outputs": [],
   "source": [
    "filepath = \"./path/to/text/file.txt\"\n",
    "conversations = ReadInput(filepath)"
   ]
  },
  {
   "cell_type": "code",
   "execution_count": null,
   "id": "6adf1663",
   "metadata": {},
   "outputs": [],
   "source": [
    "statistics = GetMessageStatistics(conversations)\n",
    "statistics"
   ]
  },
  {
   "cell_type": "code",
   "execution_count": null,
   "id": "41f69fdc",
   "metadata": {},
   "outputs": [],
   "source": [
    "day_statistics = GetMessagesByDay(conversations, draw_diag=True)\n",
    "day_statistics"
   ]
  },
  {
   "cell_type": "code",
   "execution_count": null,
   "id": "033fbca0",
   "metadata": {},
   "outputs": [],
   "source": [
    "time_statistics = GetMessagesByTime(conversations, draw_diag=True)\n",
    "time_statistics"
   ]
  },
  {
   "cell_type": "markdown",
   "id": "d02da487",
   "metadata": {},
   "source": [
    "### Get the most frequent emojis sent by invidual users"
   ]
  },
  {
   "cell_type": "code",
   "execution_count": null,
   "id": "ae895bb4",
   "metadata": {},
   "outputs": [],
   "source": [
    "# Select n-most frequent emojis user wants to extract\n",
    "n=5"
   ]
  },
  {
   "cell_type": "code",
   "execution_count": null,
   "id": "6b62d27c",
   "metadata": {},
   "outputs": [],
   "source": [
    "for user, emojis in emoji_count.items():\n",
    "        print('The {} most common emoji used by {} are: '.format(n, user))\n",
    "        most_common_emojis = emojis.most_common(n)\n",
    "        for emoji in most_common_emojis:\n",
    "            print(emoji)"
   ]
  },
  {
   "cell_type": "markdown",
   "id": "ac499b2b",
   "metadata": {},
   "source": [
    "## Generating wordcloud\n",
    "\n",
    "User have to provide path to the text file containing stopwords that user doesn't want to appear in the wordcloud\n",
    "Additionally, user should also provide a mask file. In this example, I have taken a yellow heart emoji as a mask"
   ]
  },
  {
   "cell_type": "code",
   "execution_count": null,
   "id": "02d762fc",
   "metadata": {},
   "outputs": [],
   "source": [
    "stopwords_filepath = \"./data/stopwords.txt\"\n",
    "base_image_path = \"./data/yellow-heart-14656901476jA.jpeg\"\n",
    "\n",
    "custom_stopwords = AddCustomStopwords(stopwords_filepath)\n",
    "data = PrepareDataForWordcloud(conversations, for_every_user=True)\n",
    "users = GetUsers(conversations)\n",
    "all_words = ''\n",
    "\n",
    "for user in users:\n",
    "    all_words += data[user]\n",
    "\n",
    "DrawWordCloud(all_words, base_image_path, stopwords=custom_stopwords)"
   ]
  }
 ],
 "metadata": {
  "kernelspec": {
   "display_name": "Python 3",
   "language": "python",
   "name": "python3"
  },
  "language_info": {
   "codemirror_mode": {
    "name": "ipython",
    "version": 3
   },
   "file_extension": ".py",
   "mimetype": "text/x-python",
   "name": "python",
   "nbconvert_exporter": "python",
   "pygments_lexer": "ipython3",
   "version": "3.8.10"
  }
 },
 "nbformat": 4,
 "nbformat_minor": 5
}
