{
 "cells": [
  {
   "cell_type": "code",
   "execution_count": null,
   "id": "de276b96",
   "metadata": {},
   "outputs": [],
   "source": [
    "from utils.read_input import ReadInput\n",
    "from utils.emoji_count import EmojiCount\n",
    "from utils.message_utils import GetMessageStatistics, GetMessagesByTime, GetMessagesByDay, GetUsers\n",
    "from utils.wordcloud_utils import PrepareDataForWordcloud, AddCustomStopwords, DrawWordCloud"
   ]
  },
  {
   "cell_type": "code",
   "execution_count": null,
   "id": "d116ddda",
   "metadata": {},
   "outputs": [],
   "source": [
    "filepath = \"./path/to/text/file.txt\"\n",
    "conversations = ReadInput(filepath)"
   ]
  },
  {
   "cell_type": "code",
   "execution_count": null,
   "id": "6adf1663",
   "metadata": {},
   "outputs": [],
   "source": [
    "statistics = GetMessageStatistics(conversations)\n",
    "statistics"
   ]
  },
  {
   "cell_type": "code",
   "execution_count": null,
   "id": "41f69fdc",
   "metadata": {},
   "outputs": [],
   "source": [
    "day_statistics = GetMessagesByDay(conversations, draw_diag=True)\n",
    "day_statistics.most_common"
   ]
  },
  {
   "cell_type": "code",
   "execution_count": null,
   "id": "033fbca0",
   "metadata": {},
   "outputs": [],
   "source": [
    "time_statistics = GetMessagesByTime(conversations, draw_diag=True)\n",
    "time_statistics"
   ]
  },
  {
   "cell_type": "code",
   "execution_count": null,
   "id": "6b62d27c",
   "metadata": {},
   "outputs": [],
   "source": [
    "n=5\n",
    "for user, emojis in emoji_count.items():\n",
    "        print('The {} most common emoji used by {} are: '.format(n, user))\n",
    "        most_common_emojis = emojis.most_common(n)\n",
    "        for emoji in most_common_emojis:\n",
    "            print(emoji)"
   ]
  },
  {
   "cell_type": "code",
   "execution_count": null,
   "id": "02d762fc",
   "metadata": {},
   "outputs": [],
   "source": [
    "stopwords_filepath = \"./data/stopwords.txt\"\n",
    "base_image_path = \"./data/yellow-heart-14656901476jA.jpeg\"\n",
    "\n",
    "custom_stopwords = AddCustomStopwords(stopwords_filepath)\n",
    "data = PrepareDataForWordcloud(conversations, for_every_user=True)\n",
    "users = GetUsers(conversations)\n",
    "all_words = ''\n",
    "\n",
    "for user in users:\n",
    "    all_words += data[user]\n",
    "\n",
    "DrawWordCloud(all_words, base_image_path, stopwords=custom_stopwords)"
   ]
  },
  {
   "cell_type": "code",
   "execution_count": null,
   "id": "233f8bad",
   "metadata": {},
   "outputs": [],
   "source": []
  },
  {
   "cell_type": "code",
   "execution_count": null,
   "id": "b7d111d4",
   "metadata": {},
   "outputs": [],
   "source": []
  }
 ],
 "metadata": {
  "kernelspec": {
   "display_name": "Python 3",
   "language": "python",
   "name": "python3"
  },
  "language_info": {
   "codemirror_mode": {
    "name": "ipython",
    "version": 3
   },
   "file_extension": ".py",
   "mimetype": "text/x-python",
   "name": "python",
   "nbconvert_exporter": "python",
   "pygments_lexer": "ipython3",
   "version": "3.8.10"
  }
 },
 "nbformat": 4,
 "nbformat_minor": 5
}
